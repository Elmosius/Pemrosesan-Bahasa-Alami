{
  "nbformat": 4,
  "nbformat_minor": 0,
  "metadata": {
    "colab": {
      "provenance": []
    },
    "kernelspec": {
      "name": "python3",
      "display_name": "Python 3"
    },
    "language_info": {
      "name": "python"
    }
  },
  "cells": [
    {
      "cell_type": "markdown",
      "source": [
        "# **3-Language Models**\n",
        "\n",
        "\n",
        "#### **Anggota Kelompok**\n",
        "- Elmosius Suli (2272008)\n",
        "- Christopher Wijaya (2272016)\n",
        "- Josephine Alvina Luwia (2272029)\n",
        "- Samuel Setyawan Prakasa (2272030)\n",
        "\n",
        "\n",
        "\n",
        "<br/>\n",
        "\n",
        "**Sumber:** [Stanford N-gram Language Models](https://web.stanford.edu/~jurafsky/slp3/3.pdf)\n",
        "\n",
        "---\n",
        "\n",
        "<br/>\n",
        "\n",
        "\n",
        "\n",
        " <br/>\n"
      ],
      "metadata": {
        "id": "vU3JHjKO7FqT"
      }
    },
    {
      "cell_type": "markdown",
      "source": [
        "**Import Library Regex terlebih dahulu**"
      ],
      "metadata": {
        "id": "2ks__uG_pgtX"
      }
    },
    {
      "cell_type": "code",
      "source": [
        "import re"
      ],
      "metadata": {
        "id": "6HPmMQpspYCY"
      },
      "execution_count": null,
      "outputs": []
    },
    {
      "cell_type": "markdown",
      "source": [
        "#### **3.1 Write out the equation for trigram probability estimation (modifying Eq. 3.11). Now write out all the non-zero trigram probabilities for the I am Sam corpus on page 4.**\n",
        "\n"
      ],
      "metadata": {
        "id": "VwDAFses8RKV"
      }
    },
    {
      "cell_type": "markdown",
      "source": [
        "Kalimat : `I am Sam`\n",
        "\n",
        "Formula **biagram** : `P(wn |wn-1) = C(wn-1,wn) / C(wn-1)`\n",
        "\n",
        "Formula **trigram** : `P(w3 |w1,w2) = C(w1,w2,w3) / C(w1,w2)`  \n",
        "*   ` C(w1,w2,w3)` = beberapa kali tiga kata itu muncul berurutan\n",
        "*   `C(w1,w2)` = berapa kali dua kata pertamanya muncul.\n",
        "\n",
        "Probabilitas muncul kata `Sam` setelah dua kata `I am` :\n",
        "\n",
        "*   `C(I,am,Sam)` = 1\n",
        "*   `C(I,am)` = 2\n",
        "*   `P(Sam |I am)` = `1/2` = `0.5`\n",
        "\n",
        "Contoh korpusnya (dengan simbol `<s>` dan `</s>`) :\n",
        "* `<s> I am Sam </s>`\n",
        "* `<s> Sam I am </s>`\n",
        "* `<s> I do not like green eggs and ham </s>`\n",
        "\n",
        "\n",
        "\n",
        "\n",
        "\n",
        "\n",
        "\n"
      ],
      "metadata": {
        "id": "KeZiMpmDnvG6"
      }
    },
    {
      "cell_type": "markdown",
      "source": [],
      "metadata": {
        "id": "5_CqO0Ajgxot"
      }
    },
    {
      "cell_type": "code",
      "source": [
        "# Menggunakan Counter agar mudah menghitung berapa kali suatu kata muncul\n",
        "from collections import Counter\n",
        "\n",
        "# Korpus\n",
        "sentences = [\n",
        "    [\"<s>\", \"I\", \"am\", \"Sam\", \"</s>\"],\n",
        "    [\"<s>\", \"Sam\", \"I\", \"am\", \"</s>\"],\n",
        "    [\"<s>\", \"I\", \"do\", \"not\", \"like\", \"green\", \"eggs\", \"and\", \"ham\", \"</s>\"]\n",
        "]\n",
        "\n",
        "# Pasangan 2 kata\n",
        "bigrams = []\n",
        "# Pasangan 3 kata\n",
        "trigrams = []\n",
        "\n",
        "for sent in sentences:\n",
        "    for i in range(len(sent) - 1):\n",
        "        # Mengambil 2 kata berurutan\n",
        "        bigrams.append(tuple(sent[i:i+2]))\n",
        "    for i in range(len(sent) - 2):\n",
        "        # Mengambil 3 kata berurutan\n",
        "        trigrams.append(tuple(sent[i:i+3]))\n",
        "\n",
        "# Hitung berapa kali tiap biagram dan tigram muncul di seluruh kalimat\n",
        "bigram_counts = Counter(bigrams)\n",
        "trigram_counts = Counter(trigrams)\n",
        "\n",
        "# Hitung probabilitas trigram\n",
        "trigram_probs = {}\n",
        "for trigram in trigram_counts:\n",
        "    prefix = trigram[:2]  # dua kata sebelumnya\n",
        "    trigram_probs[trigram] = trigram_counts[trigram] / bigram_counts[prefix]\n",
        "\n",
        "# Tampilkan semua trigram dengan probabilitas ≠ 0\n",
        "for trigram, prob in trigram_probs.items():\n",
        "    print(f\"P({trigram[2]} | {trigram[0]} {trigram[1]}) = {prob:.2f}\")"
      ],
      "metadata": {
        "id": "vwPNG9sQSWTn",
        "colab": {
          "base_uri": "https://localhost:8080/"
        },
        "outputId": "d273d3fc-214b-4096-a980-98d91e55911d"
      },
      "execution_count": null,
      "outputs": [
        {
          "output_type": "stream",
          "name": "stdout",
          "text": [
            "P(am | <s> I) = 0.50\n",
            "P(Sam | I am) = 0.50\n",
            "P(</s> | am Sam) = 1.00\n",
            "P(I | <s> Sam) = 1.00\n",
            "P(am | Sam I) = 1.00\n",
            "P(</s> | I am) = 0.50\n",
            "P(do | <s> I) = 0.50\n",
            "P(not | I do) = 1.00\n",
            "P(like | do not) = 1.00\n",
            "P(green | not like) = 1.00\n",
            "P(eggs | like green) = 1.00\n",
            "P(and | green eggs) = 1.00\n",
            "P(ham | eggs and) = 1.00\n",
            "P(</s> | and ham) = 1.00\n"
          ]
        }
      ]
    },
    {
      "cell_type": "markdown",
      "source": [
        "---"
      ],
      "metadata": {
        "id": "z8EsAhW3-CUx"
      }
    },
    {
      "cell_type": "markdown",
      "source": [
        "\n",
        "#### **3.2 Calculate the probability of the sentence i want chinese food. Give two probabilities, one using Fig. 3.2 and the 'useful probabilities' just below it on page 6, and another using the add-1 smoothed table in Fig. 3.7. Assume the additional add-1 smoothed probabilities `P(i|<s>)= 0.19 and P(</s>|food)= 0/40`.**"
      ],
      "metadata": {
        "id": "ScRjerfb9mpv"
      }
    },
    {
      "cell_type": "markdown",
      "source": [
        "**Fig 3.2**\n",
        "\n",
        "Sentence/Kalimat: 'i want chinese food'\n",
        "\n",
        "Formula: `P(i want chinese food) = P(i|<s>) x P(want|i) x P(chinese|want) x P(food|chinese) x P(</s>|food)`\n",
        "\n",
        "Probabilitas ditemukan dari Fig. 3.2 dan 'useful probabilities':\n",
        "1. `P(i|<s>)` probabilitas kalimat mulai dengan \"i\" (`mulainya kalimat dilambangkan oleh <s>`). Didapatkan dari list 'useful probabilites' jadi `P(i|<s>) = 0.25`\n",
        "2. `P(want|i)` probabilitas \"want\" setelah \"i\". Didapatkan dari tabel pada baris \"i\" dan kolom \"want\" jadi `P(want|i) = 0.33`\n",
        "3. `P(chinese|want)` probabilitas \"chinese\" setelah \"want\". Didapatkan dari tabel pada baris \"want\" dan kolom \"chinese\" jadi `P(chinese|want) = 0.0065`\n",
        "4. `P(food|chinese)` probabilitas \"food\" setelah \"chinese\". Didapatkan dari tabel pada baris \"chinese\" dan kolom \"food\" jadi `P(food|chinese) = 0.52`\n",
        "5. `P(</s>|food)` probabilitas kalimat diakhiri setelah \"food\". Didapatkan dari list 'useful probabilities' jadi `P(</s>|food)` = 0.68\n",
        "\n",
        "Kalkulasi akhir:\n",
        "`P(sentence) = 0.25 x 0.33 x 0.0065 x 0.52 x 0.68`\n",
        "`P(sentence) = 0.000189618`\n"
      ],
      "metadata": {
        "id": "dErPrsAuSU2X"
      }
    },
    {
      "cell_type": "code",
      "source": [
        "def calculate_sentence_probability():\n",
        "    bigram_probs = {\n",
        "        'i':       {'i': 0.002, 'want': 0.33, 'to': 0, 'eat': 0.0036, 'chinese': 0, 'food': 0, 'lunch': 0, 'spend': 0.00079},\n",
        "        'want':    {'i': 0.0022, 'want': 0, 'to': 0.66, 'eat': 0.0011, 'chinese': 0.0065, 'food': 0.0065, 'lunch': 0.0054, 'spend': 0.0011},\n",
        "        'to':      {'i': 0.00083, 'want': 0, 'to': 0.0017, 'eat': 0.28, 'chinese': 0.00083, 'food': 0, 'lunch': 0.0025, 'spend': 0.087},\n",
        "        'eat':     {'i': 0, 'want': 0, 'to': 0.0027, 'eat': 0, 'chinese': 0.021, 'food': 0.0027, 'lunch': 0.056, 'spend': 0},\n",
        "        'chinese': {'i': 0.0063, 'want': 0, 'to': 0, 'eat': 0, 'chinese': 0, 'food': 0.52, 'lunch': 0.0063, 'spend': 0},\n",
        "        'food':    {'i': 0.014, 'want': 0, 'to': 0.014, 'eat': 0, 'chinese': 0.00092, 'food': 0.0037, 'lunch': 0, 'spend': 0},\n",
        "        'lunch':   {'i': 0.0059, 'want': 0, 'to': 0, 'eat': 0, 'chinese': 0, 'food': 0.0029, 'lunch': 0, 'spend': 0},\n",
        "        'spend':   {'i': 0.0036, 'want': 0, 'to': 0.0036, 'eat': 0, 'chinese': 0, 'food': 0, 'lunch': 0, 'spend': 0},\n",
        "    }\n",
        "    # Yang didapatkan dari 'useful probabilities'\n",
        "    start_probs = {\n",
        "        'i': 0.25,\n",
        "    }\n",
        "\n",
        "    end_probs = {\n",
        "        'food': 0.68,\n",
        "    }\n",
        "    # Kalimat yang akan dikalkulasi probabilitasnya\n",
        "    sentence = ['i', 'want', 'chinese', 'food']\n",
        "\n",
        "    # Kalkulasi\n",
        "\n",
        "    print(f\"Mengkalkulasi probabilitas untuk kalimat: '{' '.join(sentence)}'\\n\")\n",
        "\n",
        "    # P(i|<s>)\n",
        "    first_word = sentence[0]\n",
        "    probability = start_probs.get(first_word, 0)\n",
        "    print(f\"P({first_word}|<s>) = {probability}\")\n",
        "\n",
        "    # Loop ini mengkalkulasi P(want|i), P(chinese|want), dan P(food|chinese)\n",
        "    for i in range(len(sentence) - 1):\n",
        "        prev_word = sentence[i]\n",
        "        current_word = sentence[i+1]\n",
        "\n",
        "        # Dapatkan probabilitas bigram, default pada 0 jika tidak ketemu\n",
        "        bigram_p = bigram_probs.get(prev_word, {}).get(current_word, 0)\n",
        "\n",
        "        print(f\"P({current_word}|{prev_word}) = {bigram_p}\")\n",
        "        probability *= bigram_p\n",
        "\n",
        "    # P(</s>|food)\n",
        "    last_word = sentence[-1]\n",
        "    end_p = end_probs.get(last_word, 0)\n",
        "    print(f\"P(</s>|{last_word}) = {end_p}\")\n",
        "    probability *= end_p\n",
        "\n",
        "    # Hasil akhir\n",
        "    print(\"\\n--------------------------------------------------\")\n",
        "    print(f\"Probabilitas akhir dari kalimat adalah: {probability}\")\n",
        "    print(f\"Jadi kira-kira: {probability:.5f}\")\n",
        "    print(\"--------------------------------------------------\")\n",
        "\n",
        "if __name__ == \"__main__\":\n",
        "    calculate_sentence_probability()\n"
      ],
      "metadata": {
        "id": "l4K7ejwoghVo",
        "colab": {
          "base_uri": "https://localhost:8080/"
        },
        "outputId": "e64e325e-192d-4a64-96b9-11b5c1d0f5c7"
      },
      "execution_count": null,
      "outputs": [
        {
          "output_type": "stream",
          "name": "stdout",
          "text": [
            "Mengkalkulasi probabilitas untuk kalimat: 'i want chinese food'\n",
            "\n",
            "P(i|<s>) = 0.25\n",
            "P(want|i) = 0.33\n",
            "P(chinese|want) = 0.0065\n",
            "P(food|chinese) = 0.52\n",
            "P(</s>|food) = 0.68\n",
            "\n",
            "--------------------------------------------------\n",
            "Probabilitas akhir dari kalimat adalah: 0.00018961800000000004\n",
            "Jadi kira-kira: 0.00019\n",
            "--------------------------------------------------\n"
          ]
        }
      ]
    },
    {
      "cell_type": "markdown",
      "source": [
        "**Fig. 3.7**\n",
        "\n",
        "Sentence/Kalimat: 'i want chinese food'\n",
        "\n",
        "Probabilitas P(W) dihitung menggunakan pendekatan aturan rantai untuk bigram dan probabilitas penghalusan add-one smoothed probabilities:\n",
        "\n",
        "Asumsi:\n",
        "\n",
        "P (i|⟨s⟩) = 0.19\n",
        "\n",
        "\n",
        "P (⟨/s⟩|food) = 0.40\n",
        "\n",
        "Dari Gambar 3.7, diekstrak probabilitas yang tersisa yang diperlukan:\n",
        "\n",
        "P(want∣i): Row \"i\", Column \"want\" →0.21\n",
        "\n",
        "\n",
        "P(chinese∣want): Row \"want\", Column \"chinese\" → 0.0029\n",
        "\n",
        "\n",
        "P(food∣chinese): Row \"chinese\", Column \"food\" → 0.052\n",
        "\n",
        "P(⟨s⟩ i want chinese food ⟨/s⟩) = 0.19 × 0.21 × 0.0029 × 0.052 × 0.40\n",
        "\n",
        "P(⟨s⟩ i want chinese food ⟨/s⟩) ≈ 0,000002406768\n"
      ],
      "metadata": {
        "id": "iKj8Pf5EjHEE"
      }
    },
    {
      "cell_type": "code",
      "source": [
        "# Probabilitas Add-One Smoothed untuk bigram dalam kalimat \"<s> i want chinese food </s>\"\n",
        "P_i_start = 0.19\n",
        "P_want_i = 0.21\n",
        "P_chinese_want = 0.0029\n",
        "P_food_chinese = 0.052\n",
        "P_end_food = 0.40\n",
        "\n",
        "# Hitung probabilitas total kalimat (Perkalian dari semua probabilitas bigram)\n",
        "probabilitas_add_one = (\n",
        "    P_i_start *\n",
        "    P_want_i *\n",
        "    P_chinese_want *\n",
        "    P_food_chinese *\n",
        "    P_end_food\n",
        ")\n",
        "\n",
        "print(\"--- Perhitungan Probabilitas Add-One Smoothed ---\")\n",
        "print(\"Probabilitas bigram yang digunakan:\")\n",
        "print(f\"P(i|<s>) = {P_i_start}\")\n",
        "print(f\"P(want|i) = {P_want_i}\")\n",
        "print(f\"P(chinese|want) = {P_chinese_want}\")\n",
        "print(f\"P(food|chinese) = {P_food_chinese}\")\n",
        "print(f\"P(</s>|food) = {P_end_food}\")\n",
        "print(\"-\" * 40)\n",
        "print(f\"P(Kalimat) = {P_i_start} * {P_want_i} * {P_chinese_want} * {P_food_chinese} * {P_end_food}\")\n",
        "print(f\"Hasil Probabilitas Add-One Smoothed: {probabilitas_add_one}\")\n",
        "# Mencetak dalam notasi ilmiah untuk keterbacaan yang lebih baik:\n",
        "print(f\"Hasil dalam notasi ilmiah: {probabilitas_add_one:.3e}\")"
      ],
      "metadata": {
        "id": "-6jXZbzSjHmz",
        "colab": {
          "base_uri": "https://localhost:8080/"
        },
        "outputId": "614582a7-8f7c-4a3c-9405-99397d297c99"
      },
      "execution_count": null,
      "outputs": [
        {
          "output_type": "stream",
          "name": "stdout",
          "text": [
            "--- Perhitungan Probabilitas Add-One Smoothed ---\n",
            "Probabilitas bigram yang digunakan:\n",
            "P(i|<s>) = 0.19\n",
            "P(want|i) = 0.21\n",
            "P(chinese|want) = 0.0029\n",
            "P(food|chinese) = 0.052\n",
            "P(</s>|food) = 0.4\n",
            "----------------------------------------\n",
            "P(Kalimat) = 0.19 * 0.21 * 0.0029 * 0.052 * 0.4\n",
            "Hasil Probabilitas Add-One Smoothed: 2.4067679999999995e-06\n",
            "Hasil dalam notasi ilmiah: 2.407e-06\n"
          ]
        }
      ]
    },
    {
      "cell_type": "markdown",
      "source": [
        "\n",
        "\n",
        "---\n",
        "\n"
      ],
      "metadata": {
        "id": "WAjp08Cb-W-s"
      }
    },
    {
      "cell_type": "markdown",
      "source": [
        "#### **3.4 We are given the following corpus, modified from the one in the chapter:**\n",
        "\n",
        "```\n",
        " <s> I am Sam </s>\n",
        " <s> Sam I am </s>\n",
        " <s> I am Sam </s>\n",
        " <s> I do not like green eggs and Sam </s>\n",
        "```\n",
        "\n",
        "Using a bigram language model with add-one smoothing, what is P(Sam | am)? Include `<s> and </s>` in your counts just like any other token."
      ],
      "metadata": {
        "id": "9zw8HxRO-Ztr"
      }
    },
    {
      "cell_type": "markdown",
      "source": [
        "penjelasan ditulis didokumen terpisah berikut linknya:\n",
        "\n",
        "https://excalidraw.com/#json=xU1RYt6GkoAzPduEiiInw,Rnttukmw7ptwWNiUdIJLnw:\n",
        "\n",
        "\n"
      ],
      "metadata": {
        "id": "piubIidsjjEQ"
      }
    },
    {
      "cell_type": "code",
      "source": [
        "import nltk\n",
        "from nltk.lm.preprocessing import padded_everygram_pipeline\n",
        "from nltk.lm import Laplace\n",
        "\n",
        "# 1) Korpus TANPA boundary; nanti NLTK yang menambahkan <s> dan </s> otomatis (sesuai n=2)\n",
        "sents = [\n",
        "    [\"I\", \"am\", \"Sam\"],\n",
        "    [\"Sam\", \"I\", \"am\"],\n",
        "    [\"I\", \"am\", \"Sam\"],\n",
        "    [\"I\", \"do\", \"not\", \"like\", \"green\", \"eggs\", \"and\", \"Sam\"],\n",
        "]\n",
        "\n",
        "# 2) Siapkan data n-gram dengan padding boundary (<s>, </s>)\n",
        "n = 2\n",
        "train_data, vocab = padded_everygram_pipeline(n, sents)\n",
        "\n",
        "# 3) Latih model Bigram dengan Laplace smoothing\n",
        "model = Laplace(n)\n",
        "model.fit(train_data, vocab)\n",
        "\n",
        "# 4) Probabilitas yang diminta: P(Sam | am)\n",
        "p = model.score(\"Sam\", [\"am\"])\n",
        "print(\"Vocab size V =\", len(model.vocab))\n",
        "print(\"P(Sam | am)  =\", p)\n",
        "\n",
        "# Ambil hitungan dari model NLTK\n",
        "c_bigram = model.counts[(\"am\",)][\"Sam\"]\n",
        "c_context = model.counts[(\"am\",)].N()\n",
        "\n",
        "# Buang <UNK> dari perhitungan V\n",
        "vocab_tokens = [w for w in model.vocab if w != \"<UNK>\"]\n",
        "V_no_unk = len(vocab_tokens)\n",
        "print(\"Vocab size V =\", V_no_unk)\n",
        "\n",
        "p_manual = (c_bigram + 1) / (c_context + V_no_unk)\n",
        "print(\"P(Sam | am) tanpa <UNK> =\", p_manual)\n"
      ],
      "metadata": {
        "id": "v4BC5fbdji5M",
        "colab": {
          "base_uri": "https://localhost:8080/"
        },
        "outputId": "fcb4e957-5783-4bf6-93be-c74c3d315598"
      },
      "execution_count": 17,
      "outputs": [
        {
          "output_type": "stream",
          "name": "stdout",
          "text": [
            "Vocab size V = 12\n",
            "P(Sam | am)  = 0.2\n",
            "Vocab size V = 11\n",
            "P(Sam | am) tanpa <UNK> = 0.21428571428571427\n"
          ]
        }
      ]
    }
  ]
}